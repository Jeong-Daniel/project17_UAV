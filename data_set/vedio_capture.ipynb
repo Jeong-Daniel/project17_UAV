{
 "cells": [
  {
   "cell_type": "code",
   "execution_count": 1,
   "id": "e8c3cfad",
   "metadata": {},
   "outputs": [],
   "source": [
    "import os\n",
    "import re\n",
    "import time\n",
    "import cv2\n",
    "import numpy as np\n",
    "import matplotlib.pyplot as plt\n",
    "from os.path import isfile, join"
   ]
  },
  {
   "cell_type": "code",
   "execution_count": 2,
   "id": "d8cd2e9b",
   "metadata": {},
   "outputs": [],
   "source": [
    "def onChange(x):\n",
    "    pass"
   ]
  },
  {
   "cell_type": "code",
   "execution_count": 3,
   "id": "108df0b8",
   "metadata": {},
   "outputs": [],
   "source": [
    "def createFolder(directory):\n",
    "    try:\n",
    "        if not os.path.exists(directory):\n",
    "            os.makedirs(directory)\n",
    "    except OSError:\n",
    "        print ('Error: Creating directory. ' +  directory)\n"
   ]
  },
  {
   "cell_type": "code",
   "execution_count": 4,
   "id": "5e3f448e",
   "metadata": {},
   "outputs": [],
   "source": [
    "def onMouse(event, x, y, flags, param):\n",
    "    global isDragging, x0, y0, img\n",
    "    \n",
    "    if event == cv2.EVENT_LBUTTONDOWN:\n",
    "        isDragging = True\n",
    "        x0 = x\n",
    "        y0 = y\n",
    "    elif event == cv2.EVENT_MOUSEMOVE:\n",
    "        if isDragging:\n",
    "            img_draw = img.copy()\n",
    "            cv2.rectangle(img_draw, (x0, y0), (x, y), blue, 2)\n",
    "            cv2.imshow('img', img_draw)\n",
    "    elif event == cv2.EVENT_LBUTTONUP:\n",
    "        \n",
    "        if isDragging:\n",
    "            isDragging = False\n",
    "            w = x - x0\n",
    "            h = y - y0\n",
    "            if w > 0 and h > 0:\n",
    "                \n",
    "                cv2.namedWindow('cropped')\n",
    "                cv2.createTrackbar('n-p', 'cropped', 0, 1, onChange)\n",
    "                cv2.createTrackbar('save', 'cropped', 0, 1, onChange)\n",
    "                \n",
    "                img_draw = img.copy()\n",
    "                cv2.rectangle(img_draw, (x0, y0), (x, y), red, 2)\n",
    "                cv2.imshow('img', img_draw)\n",
    "                roi = img[y0:y0+h, x0:x0+w]\n",
    "                \n",
    "                cv2.imshow('cropped', roi)\n",
    "                \n",
    "                cv2.moveWindow('cropped', 0, 0)\n",
    "               \n",
    "                \n",
    "                \n",
    "                cv2.imshow('cropped', roi)\n",
    "                while True:\n",
    "                    \n",
    "                    p_n = cv2.getTrackbarPos('n-p', 'cropped')\n",
    "                    save_f = cv2.getTrackbarPos('save', 'cropped')\n",
    "                    cv2.waitKey(40)\n",
    "                    \n",
    "                    if save_f==1 :\n",
    "                        if p_n == 0:\n",
    "                            createFolder('./n')\n",
    "                            file_list = os.listdir('./n')\n",
    "                            filename = './n/'+str(len(file_list))+'.png'\n",
    "                            cv2.imwrite(filename, roi)\n",
    "                            \n",
    "                        else:\n",
    "                            createFolder('./p')\n",
    "                            file_list = os.listdir('./p')\n",
    "                            filename = './p/'+str(len(file_list))+'.png'\n",
    "                            cv2.imwrite(filename, roi)\n",
    "                        \n",
    "        \n",
    "                        cv2.destroyWindow('cropped')\n",
    "                \n",
    "            else:\n",
    "                cv2.imshow('img', img)\n",
    "                print('drag should start from left-top side')\n"
   ]
  },
  {
   "cell_type": "code",
   "execution_count": null,
   "id": "8bab25f6",
   "metadata": {},
   "outputs": [
    {
     "ename": "error",
     "evalue": "OpenCV(4.5.3) C:\\Users\\runneradmin\\AppData\\Local\\Temp\\pip-req-build-q3d_8t8e\\opencv\\modules\\highgui\\src\\window_w32.cpp:2577: error: (-27:Null pointer) NULL window: 'cropped' in function 'cvGetTrackbarPos'\n",
     "output_type": "error",
     "traceback": [
      "\u001b[1;31m---------------------------------------------------------------------------\u001b[0m",
      "\u001b[1;31merror\u001b[0m                                     Traceback (most recent call last)",
      "\u001b[1;32m<ipython-input-4-9bc8e02fd0c8>\u001b[0m in \u001b[0;36monMouse\u001b[1;34m(event, x, y, flags, param)\u001b[0m\n\u001b[0;32m     37\u001b[0m                 \u001b[1;32mwhile\u001b[0m \u001b[1;32mTrue\u001b[0m\u001b[1;33m:\u001b[0m\u001b[1;33m\u001b[0m\u001b[1;33m\u001b[0m\u001b[0m\n\u001b[0;32m     38\u001b[0m \u001b[1;33m\u001b[0m\u001b[0m\n\u001b[1;32m---> 39\u001b[1;33m                     \u001b[0mp_n\u001b[0m \u001b[1;33m=\u001b[0m \u001b[0mcv2\u001b[0m\u001b[1;33m.\u001b[0m\u001b[0mgetTrackbarPos\u001b[0m\u001b[1;33m(\u001b[0m\u001b[1;34m'n-p'\u001b[0m\u001b[1;33m,\u001b[0m \u001b[1;34m'cropped'\u001b[0m\u001b[1;33m)\u001b[0m\u001b[1;33m\u001b[0m\u001b[1;33m\u001b[0m\u001b[0m\n\u001b[0m\u001b[0;32m     40\u001b[0m                     \u001b[0msave_f\u001b[0m \u001b[1;33m=\u001b[0m \u001b[0mcv2\u001b[0m\u001b[1;33m.\u001b[0m\u001b[0mgetTrackbarPos\u001b[0m\u001b[1;33m(\u001b[0m\u001b[1;34m'save'\u001b[0m\u001b[1;33m,\u001b[0m \u001b[1;34m'cropped'\u001b[0m\u001b[1;33m)\u001b[0m\u001b[1;33m\u001b[0m\u001b[1;33m\u001b[0m\u001b[0m\n\u001b[0;32m     41\u001b[0m                     \u001b[0mcv2\u001b[0m\u001b[1;33m.\u001b[0m\u001b[0mwaitKey\u001b[0m\u001b[1;33m(\u001b[0m\u001b[1;36m40\u001b[0m\u001b[1;33m)\u001b[0m\u001b[1;33m\u001b[0m\u001b[1;33m\u001b[0m\u001b[0m\n",
      "\u001b[1;31merror\u001b[0m: OpenCV(4.5.3) C:\\Users\\runneradmin\\AppData\\Local\\Temp\\pip-req-build-q3d_8t8e\\opencv\\modules\\highgui\\src\\window_w32.cpp:2577: error: (-27:Null pointer) NULL window: 'cropped' in function 'cvGetTrackbarPos'\n"
     ]
    },
    {
     "ename": "error",
     "evalue": "OpenCV(4.5.3) C:\\Users\\runneradmin\\AppData\\Local\\Temp\\pip-req-build-q3d_8t8e\\opencv\\modules\\highgui\\src\\window_w32.cpp:2577: error: (-27:Null pointer) NULL window: 'cropped' in function 'cvGetTrackbarPos'\n",
     "output_type": "error",
     "traceback": [
      "\u001b[1;31m---------------------------------------------------------------------------\u001b[0m",
      "\u001b[1;31merror\u001b[0m                                     Traceback (most recent call last)",
      "\u001b[1;32m<ipython-input-4-9bc8e02fd0c8>\u001b[0m in \u001b[0;36monMouse\u001b[1;34m(event, x, y, flags, param)\u001b[0m\n\u001b[0;32m     37\u001b[0m                 \u001b[1;32mwhile\u001b[0m \u001b[1;32mTrue\u001b[0m\u001b[1;33m:\u001b[0m\u001b[1;33m\u001b[0m\u001b[1;33m\u001b[0m\u001b[0m\n\u001b[0;32m     38\u001b[0m \u001b[1;33m\u001b[0m\u001b[0m\n\u001b[1;32m---> 39\u001b[1;33m                     \u001b[0mp_n\u001b[0m \u001b[1;33m=\u001b[0m \u001b[0mcv2\u001b[0m\u001b[1;33m.\u001b[0m\u001b[0mgetTrackbarPos\u001b[0m\u001b[1;33m(\u001b[0m\u001b[1;34m'n-p'\u001b[0m\u001b[1;33m,\u001b[0m \u001b[1;34m'cropped'\u001b[0m\u001b[1;33m)\u001b[0m\u001b[1;33m\u001b[0m\u001b[1;33m\u001b[0m\u001b[0m\n\u001b[0m\u001b[0;32m     40\u001b[0m                     \u001b[0msave_f\u001b[0m \u001b[1;33m=\u001b[0m \u001b[0mcv2\u001b[0m\u001b[1;33m.\u001b[0m\u001b[0mgetTrackbarPos\u001b[0m\u001b[1;33m(\u001b[0m\u001b[1;34m'save'\u001b[0m\u001b[1;33m,\u001b[0m \u001b[1;34m'cropped'\u001b[0m\u001b[1;33m)\u001b[0m\u001b[1;33m\u001b[0m\u001b[1;33m\u001b[0m\u001b[0m\n\u001b[0;32m     41\u001b[0m                     \u001b[0mcv2\u001b[0m\u001b[1;33m.\u001b[0m\u001b[0mwaitKey\u001b[0m\u001b[1;33m(\u001b[0m\u001b[1;36m40\u001b[0m\u001b[1;33m)\u001b[0m\u001b[1;33m\u001b[0m\u001b[1;33m\u001b[0m\u001b[0m\n",
      "\u001b[1;31merror\u001b[0m: OpenCV(4.5.3) C:\\Users\\runneradmin\\AppData\\Local\\Temp\\pip-req-build-q3d_8t8e\\opencv\\modules\\highgui\\src\\window_w32.cpp:2577: error: (-27:Null pointer) NULL window: 'cropped' in function 'cvGetTrackbarPos'\n"
     ]
    }
   ],
   "source": [
    "capture = cv2.VideoCapture('DJI_0016.mp4')\n",
    "cv2.namedWindow('img', flags=cv2.WINDOW_NORMAL)\n",
    "\n",
    "while capture.isOpened():\n",
    "    \n",
    "    isDragging = False\n",
    "    x0, y0, w, h = -1, -1, -1, -1\n",
    "    blue, red = (255, 0, 0), (0, 0, 255)\n",
    "    \n",
    "    run, frame = capture.read()\n",
    "    \n",
    "    if run:\n",
    "        img = cv2.cvtColor(frame, cv2.IMREAD_COLOR)\n",
    "        k = cv2.waitKey(30)&0xFF\n",
    "        if k==27:\n",
    "            break\n",
    "      \n",
    "        \n",
    "        cv2.imshow('img', img)\n",
    "        cv2.setMouseCallback('img', onMouse)\n",
    "        cv2.waitKey(20)\n",
    "        \n",
    "    \n",
    "    else:\n",
    "        print(\"[프레임 수신 불가] - 종료합니다\")\n",
    "        break\n",
    " \n",
    "capture.release()\n",
    "cv2.destroyAllWindows()"
   ]
  },
  {
   "cell_type": "code",
   "execution_count": null,
   "id": "1a539739",
   "metadata": {},
   "outputs": [],
   "source": []
  }
 ],
 "metadata": {
  "kernelspec": {
   "display_name": "Python 3",
   "language": "python",
   "name": "python3"
  },
  "language_info": {
   "codemirror_mode": {
    "name": "ipython",
    "version": 3
   },
   "file_extension": ".py",
   "mimetype": "text/x-python",
   "name": "python",
   "nbconvert_exporter": "python",
   "pygments_lexer": "ipython3",
   "version": "3.8.8"
  }
 },
 "nbformat": 4,
 "nbformat_minor": 5
}
